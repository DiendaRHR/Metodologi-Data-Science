{
  "nbformat": 4,
  "nbformat_minor": 0,
  "metadata": {
    "colab": {
      "name": "Klasifikasi.ipynb",
      "provenance": []
    },
    "kernelspec": {
      "name": "python3",
      "display_name": "Python 3"
    },
    "language_info": {
      "name": "python"
    }
  },
  "cells": [
    {
      "cell_type": "markdown",
      "source": [
        "# 1. Dataset"
      ],
      "metadata": {
        "id": "AlbXN83tivSx"
      }
    },
    {
      "cell_type": "code",
      "source": [
        "from sklearn import datasets\n",
        "iris = datasets.load_iris() \n",
        "X = iris.data\n",
        "y = iris.target"
      ],
      "metadata": {
        "id": "0OMBGz2Yg_DJ"
      },
      "execution_count": 1,
      "outputs": []
    },
    {
      "cell_type": "code",
      "source": [
        "print('Banyaknya data: ', len(X))"
      ],
      "metadata": {
        "colab": {
          "base_uri": "https://localhost:8080/"
        },
        "id": "_dfR1LTliZRa",
        "outputId": "ba5d90d3-bf1b-4f69-a928-1f244cd9cd7f"
      },
      "execution_count": 2,
      "outputs": [
        {
          "output_type": "stream",
          "name": "stdout",
          "text": [
            "Banyaknya data:  150\n"
          ]
        }
      ]
    },
    {
      "cell_type": "code",
      "source": [
        "print('15 data pertama: ')\n",
        "print(X[:15])"
      ],
      "metadata": {
        "colab": {
          "base_uri": "https://localhost:8080/"
        },
        "id": "n3rjNndDnCz5",
        "outputId": "3c156f08-fcdf-4a08-d895-77c0f21b5bb9"
      },
      "execution_count": 3,
      "outputs": [
        {
          "output_type": "stream",
          "name": "stdout",
          "text": [
            "15 data pertama: \n",
            "[[5.1 3.5 1.4 0.2]\n",
            " [4.9 3.  1.4 0.2]\n",
            " [4.7 3.2 1.3 0.2]\n",
            " [4.6 3.1 1.5 0.2]\n",
            " [5.  3.6 1.4 0.2]\n",
            " [5.4 3.9 1.7 0.4]\n",
            " [4.6 3.4 1.4 0.3]\n",
            " [5.  3.4 1.5 0.2]\n",
            " [4.4 2.9 1.4 0.2]\n",
            " [4.9 3.1 1.5 0.1]\n",
            " [5.4 3.7 1.5 0.2]\n",
            " [4.8 3.4 1.6 0.2]\n",
            " [4.8 3.  1.4 0.1]\n",
            " [4.3 3.  1.1 0.1]\n",
            " [5.8 4.  1.2 0.2]]\n"
          ]
        }
      ]
    },
    {
      "cell_type": "markdown",
      "source": [
        "# 2. Split Data"
      ],
      "metadata": {
        "id": "fV-u0V87nV7q"
      }
    },
    {
      "cell_type": "code",
      "source": [
        "from sklearn.model_selection import train_test_split\n",
        "X_train, X_test, y_train, y_test = train_test_split(X, y, train_size = 0.7)"
      ],
      "metadata": {
        "id": "pwc5knshnVSM"
      },
      "execution_count": 4,
      "outputs": []
    },
    {
      "cell_type": "code",
      "source": [
        "print('Banyaknya data latih: ', len(X_train))\n",
        "print('Banyaknya data tes: ', len(X_test))"
      ],
      "metadata": {
        "colab": {
          "base_uri": "https://localhost:8080/"
        },
        "id": "H8vO6qNloPIg",
        "outputId": "f0495e72-e07f-47ac-f899-464d33f9f052"
      },
      "execution_count": 5,
      "outputs": [
        {
          "output_type": "stream",
          "name": "stdout",
          "text": [
            "Banyaknya data latih:  105\n",
            "Banyaknya data tes:  45\n"
          ]
        }
      ]
    },
    {
      "cell_type": "markdown",
      "source": [
        "K-Fold"
      ],
      "metadata": {
        "id": "Hzx-dKbUo7Im"
      }
    },
    {
      "cell_type": "code",
      "source": [
        "from sklearn.model_selection import cross_val_score\n",
        "from sklearn.svm import SVC\n",
        "\n",
        "model = SVC(kernel = 'linear', C=1)\n",
        "scores = cross_val_score(model, X, y, cv = 5)\n",
        "\n",
        "print('Akurasi SVM untuk setiap fold: ', scores)\n",
        "print('Akurasi SVM dengan 5-fold: ', scores.mean())"
      ],
      "metadata": {
        "colab": {
          "base_uri": "https://localhost:8080/"
        },
        "id": "2qemLr7Vo6vc",
        "outputId": "48bcd32b-9155-4f19-f6bf-84b4238b50de"
      },
      "execution_count": 7,
      "outputs": [
        {
          "output_type": "stream",
          "name": "stdout",
          "text": [
            "Akurasi SVM untuk setiap fold:  [0.96666667 1.         0.96666667 0.96666667 1.        ]\n",
            "Akurasi SVM dengan 5-fold:  0.9800000000000001\n"
          ]
        }
      ]
    },
    {
      "cell_type": "markdown",
      "source": [
        "# Model Evaluasi Klasifikasi"
      ],
      "metadata": {
        "id": "fgyZ6EjhkyWO"
      }
    },
    {
      "cell_type": "markdown",
      "source": [
        "## 1. KNN\n",
        "Sumber bacaan: https://scikit-learn.org/stable/modules/generated/sklearn.neighbors.KNeighborsClassifier.html#sklearn.neighbors.KNeighborsClassifier"
      ],
      "metadata": {
        "id": "9raF5KETk4Cs"
      }
    },
    {
      "cell_type": "code",
      "source": [
        "from sklearn.neighbors import KNeighborsClassifier\n",
        "from sklearn import metrics\n",
        "\n",
        "knn = KNeighborsClassifier()\n",
        "\n",
        "knn.fit(X_train, y_train)\n",
        "y_pred = knn.predict(X_test)\n",
        "score = metrics.accuracy_score(y_test, y_pred)\n",
        "print('Akurasi model KNN sebesar: ', score)"
      ],
      "metadata": {
        "colab": {
          "base_uri": "https://localhost:8080/"
        },
        "id": "ELly6_-hlK8q",
        "outputId": "cfbf8b9b-3757-4573-961a-60d5a3c77efc"
      },
      "execution_count": 9,
      "outputs": [
        {
          "output_type": "stream",
          "name": "stdout",
          "text": [
            "Akurasi model KNN sebesar:  0.9555555555555556\n"
          ]
        }
      ]
    },
    {
      "cell_type": "markdown",
      "source": [
        "## 2. Decision Tree\n",
        "Sumber bacaan: https://scikit-learn.org/stable/modules/generated/sklearn.tree.DecisionTreeClassifier.html#sklearn.tree.DecisionTreeClassifier"
      ],
      "metadata": {
        "id": "3Ry_iCQvk8f1"
      }
    },
    {
      "cell_type": "code",
      "source": [
        "from sklearn.tree import DecisionTreeClassifier\n",
        "from sklearn import metrics\n",
        "\n",
        "dt = DecisionTreeClassifier(max_depth = None, min_samples_split = 2)\n",
        "dt.fit(X_train, y_train)\n",
        "y_pred = dt.predict(X_test)\n",
        "score = metrics.accuracy_score(y_test, y_pred)\n",
        "print('Akurasi model Decision Tree sebesar : ', score)"
      ],
      "metadata": {
        "colab": {
          "base_uri": "https://localhost:8080/"
        },
        "id": "hdw5y_cIlPJj",
        "outputId": "83ff4421-a0b8-46bf-f6e1-e442593edd38"
      },
      "execution_count": 10,
      "outputs": [
        {
          "output_type": "stream",
          "name": "stdout",
          "text": [
            "Akurasi model Decision Tree sebesar :  0.9333333333333333\n"
          ]
        }
      ]
    },
    {
      "cell_type": "code",
      "source": [
        "dt = DecisionTreeClassifier(max_depth = 1, min_samples_split = 2)\n",
        "dt.fit(X_train, y_train)\n",
        "y_pred = dt.predict(X_test)\n",
        "score = metrics.accuracy_score(y_test, y_pred)\n",
        "print('Akurasi model Decision Tree sebesar : ', score)"
      ],
      "metadata": {
        "colab": {
          "base_uri": "https://localhost:8080/"
        },
        "id": "h4_Uzu0mvYzL",
        "outputId": "0cbcf17d-35bd-4ca1-f3af-e8cab1a17c0b"
      },
      "execution_count": 11,
      "outputs": [
        {
          "output_type": "stream",
          "name": "stdout",
          "text": [
            "Akurasi model Decision Tree sebesar :  0.6666666666666666\n"
          ]
        }
      ]
    },
    {
      "cell_type": "markdown",
      "source": [
        "## 3. SVM\n",
        "Sumber bacaan : https://scikit-learn.org/stable/modules/generated/sklearn.svm.SVC.html"
      ],
      "metadata": {
        "id": "rTvXV-AmgtYO"
      }
    },
    {
      "cell_type": "code",
      "execution_count": 26,
      "metadata": {
        "id": "o9TMROP_Zd66",
        "colab": {
          "base_uri": "https://localhost:8080/"
        },
        "outputId": "cb1edfd9-77c9-4ea5-ff2d-6846c19d0267"
      },
      "outputs": [
        {
          "output_type": "stream",
          "name": "stdout",
          "text": [
            "Akurasi model SVM sebesar :  0.9333333333333333\n"
          ]
        }
      ],
      "source": [
        "from sklearn.svm import SVC\n",
        "from sklearn import metrics\n",
        "\n",
        "svm = SVC(kernel = 'rbf', C = 1, gamma = 0.01)\n",
        "svm.fit(X_train, y_train)\n",
        "y_pred = svm.predict(X_test)\n",
        "score = metrics.accuracy_score(y_test, y_pred)\n",
        "print('Akurasi model SVM sebesar : ', score)"
      ]
    },
    {
      "cell_type": "code",
      "source": [
        "svmLinear = SVC(kernel = 'linear', C = 1, gamma = 0.01)\n",
        "svmLinear.fit(X_train, y_train)\n",
        "y_pred = svmLinear.predict(X_test)\n",
        "score = metrics.accuracy_score(y_test, y_pred)\n",
        "print('Akurasi model SVM-Linear sebesar : ', score)"
      ],
      "metadata": {
        "colab": {
          "base_uri": "https://localhost:8080/"
        },
        "id": "3Tg-L-fJgN6g",
        "outputId": "1004aeb0-9dac-4a2b-ae3d-303ab8e7e4c6"
      },
      "execution_count": 25,
      "outputs": [
        {
          "output_type": "stream",
          "name": "stdout",
          "text": [
            "Akurasi model SVM-Linear sebesar :  0.9777777777777777\n"
          ]
        }
      ]
    },
    {
      "cell_type": "markdown",
      "source": [
        "## 4. Logistic Regression\n",
        "Sumber bacaan: https://scikit-learn.org/stable/modules/generated/sklearn.linear_model.LogisticRegression.html#sklearn.linear_model.LogisticRegression"
      ],
      "metadata": {
        "id": "JoBuBmQRhCnd"
      }
    },
    {
      "cell_type": "code",
      "source": [
        "from sklearn.linear_model import LogisticRegression\n",
        "from sklearn import metrics\n",
        "\n",
        "lr = LogisticRegression()\n",
        "lr.fit(X_train, y_train)\n",
        "y_pred = lr.predict(X_test)\n",
        "score = metrics.accuracy_score(y_test, y_pred)\n",
        "print('Akurasi model SVM sebesar : ', score)"
      ],
      "metadata": {
        "colab": {
          "base_uri": "https://localhost:8080/"
        },
        "id": "XlkTVjb2hNUb",
        "outputId": "ce530aaa-a6f7-416a-b7b9-66d0e255be38"
      },
      "execution_count": 23,
      "outputs": [
        {
          "output_type": "stream",
          "name": "stdout",
          "text": [
            "Akurasi model SVM sebesar :  0.9333333333333333\n"
          ]
        }
      ]
    },
    {
      "cell_type": "markdown",
      "source": [
        "## 5. Naive Bayes\n",
        "Sumber bacaan: https://scikit-learn.org/stable/modules/generated/sklearn.naive_bayes.BernoulliNB.html#sklearn.naive_bayes.BernoulliNB"
      ],
      "metadata": {
        "id": "zQzBH8zRlV4S"
      }
    },
    {
      "cell_type": "code",
      "source": [
        "from sklearn.naive_bayes import BernoulliNB\n",
        "from sklearn import metrics\n",
        "\n",
        "nb = BernoulliNB()\n",
        "nb.fit(X_train, y_train)\n",
        "y_pred = nb.predict(X_test)\n",
        "score = metrics.accuracy_score(y_test, y_pred)\n",
        "print('Akurasi model Naive Bayes sebesar : ', score)"
      ],
      "metadata": {
        "colab": {
          "base_uri": "https://localhost:8080/"
        },
        "id": "NSUjz5Ethx6c",
        "outputId": "6db88c2e-cbc8-4682-ab58-c3e008c9aa42"
      },
      "execution_count": 21,
      "outputs": [
        {
          "output_type": "stream",
          "name": "stdout",
          "text": [
            "Akurasi model Naive Bayes sebesar :  0.3111111111111111\n"
          ]
        }
      ]
    },
    {
      "cell_type": "markdown",
      "source": [
        "GausianNB : (https://scikit-learn.org/stable/modules/generated/sklearn.naive_bayes.GaussianNB.html#sklearn.naive_bayes.GaussianNB"
      ],
      "metadata": {
        "id": "KTZI10I1zvt9"
      }
    },
    {
      "cell_type": "code",
      "source": [
        "from sklearn.naive_bayes import GaussianNB\n",
        "from sklearn import metrics\n",
        "\n",
        "nb = GaussianNB()\n",
        "nb.fit(X_train, y_train)\n",
        "y_pred = nb.predict(X_test)\n",
        "score = metrics.accuracy_score(y_test, y_pred)\n",
        "print('Akurasi model Naive Bayes sebesar : ', score)"
      ],
      "metadata": {
        "colab": {
          "base_uri": "https://localhost:8080/"
        },
        "id": "YCJ6enXQzLCK",
        "outputId": "ffb3d2b3-b8a1-4b06-d3fd-fe35428a2838"
      },
      "execution_count": 22,
      "outputs": [
        {
          "output_type": "stream",
          "name": "stdout",
          "text": [
            "Akurasi model Naive Bayes sebesar :  0.9333333333333333\n"
          ]
        }
      ]
    }
  ]
}